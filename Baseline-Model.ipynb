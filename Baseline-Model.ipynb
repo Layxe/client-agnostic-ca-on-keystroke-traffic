{
 "cells": [
  {
   "cell_type": "code",
   "execution_count": 19,
   "metadata": {},
   "outputs": [
    {
     "name": "stdout",
     "output_type": "stream",
     "text": [
      "Using: cpu\n"
     ]
    }
   ],
   "source": [
    "import torch\n",
    "import numpy as np\n",
    "import matplotlib.pyplot as plt\n",
    "\n",
    "torch.random.manual_seed(1337)\n",
    "np.random.seed(1337)\n",
    "\n",
    "device = torch.device('cuda' if torch.cuda.is_available() else 'cpu')\n",
    "print(\"Using:\", device)\n",
    "\n",
    "from lib.plotutility import set_eda_style\n",
    "set_eda_style()"
   ]
  },
  {
   "cell_type": "code",
   "execution_count": 20,
   "metadata": {},
   "outputs": [
    {
     "name": "stdout",
     "output_type": "stream",
     "text": [
      "Previous length: 198987\n",
      "New length: 99456\n"
     ]
    }
   ],
   "source": [
    "from lib.mitmproxyloader import load_mitm_packets_as_dataframe\n",
    "from lib.mitmdataset import MitmProxyLogsDataset\n",
    "from lib.mitmpairdataset import create_pairs_from_mitm_arrays, MitmProxyPairDataset\n",
    "\n",
    "packet_dataframe = load_mitm_packets_as_dataframe(\"./data/\")\n",
    "\n",
    "def preprocess_dataframe(packet_dataframe):\n",
    "    import json\n",
    "\n",
    "    # Get filenames with entries < 1000\n",
    "    filenames = packet_dataframe['filename'].value_counts()\n",
    "    filenames = filenames[filenames < 1000]\n",
    "\n",
    "    # Remove filenames with entries < 4000\n",
    "    packet_dataframe = packet_dataframe[~packet_dataframe['filename'].isin(filenames.index)]\n",
    "\n",
    "    # Filter out all rows, where 'name' is not in 'body'\n",
    "    packet_dataframe = packet_dataframe[packet_dataframe['body'].str.contains('name')]\n",
    "\n",
    "    new_df = packet_dataframe.copy()\n",
    "\n",
    "    for i, row in packet_dataframe.iterrows():\n",
    "        body = row['body']\n",
    "        if 'applyOtUpdate' in body:\n",
    "            json_str = body.split('::')[1]\n",
    "            json_obj = json.loads(json_str)\n",
    "            content = json_obj['args'][1]['op'][0]\n",
    "\n",
    "            content_keys = content.keys()\n",
    "\n",
    "            if 'i' in content_keys:\n",
    "                new_df.at[i, 'bytes'] = len(content['i'])\n",
    "            else:\n",
    "                new_df.at[i, 'bytes'] = -len(content['d'])\n",
    "\n",
    "            new_df.at[i, 'body'] = content\n",
    "        else:\n",
    "            new_df.at[i, 'body'] = \"ACK\"\n",
    "            new_df.at[i, 'bytes'] = 0\n",
    "\n",
    "    return new_df\n",
    "\n",
    "packet_dataframe = preprocess_dataframe(packet_dataframe)\n",
    "# Drop all entries with 'ACK' in body\n",
    "print(\"Previous length:\", len(packet_dataframe))\n",
    "packet_dataframe = packet_dataframe[packet_dataframe['body'] != 'ACK']\n",
    "print(\"New length:\", len(packet_dataframe))"
   ]
  },
  {
   "cell_type": "code",
   "execution_count": 36,
   "metadata": {},
   "outputs": [
    {
     "name": "stdout",
     "output_type": "stream",
     "text": [
      "Num labels: 75\n",
      "Dataset Statistics\n",
      "-------------------------------------------------------\n",
      "Max value diff:   62930889000\n",
      "Max value bytes:  29\n",
      "Mean value diff:  2848719540\n",
      "Mean value bytes: 3.7033361486486487\n",
      "Std value diff:   4100478547\n",
      "Std value bytes:  2.6873403451125877\n",
      "Chunks per group: 4\n",
      "-------------------------------------------------------\n"
     ]
    }
   ],
   "source": [
    "print(\"Num labels:\", len(packet_dataframe[\"filename\"].unique()))\n",
    "\n",
    "total_dataset = MitmProxyLogsDataset(packet_dataframe, training=True, chunk_size=64, scale_zero_to_one=True, apply_highpass=False, subtract_mean=False, scale_negative_separately=True)\n",
    "\n",
    "def perform_k_split(k, dataset):\n",
    "    from sklearn.model_selection import KFold\n",
    "\n",
    "    kf = KFold(n_splits=k, shuffle=True)\n",
    "\n",
    "    for train_index, test_index in kf.split(dataset):\n",
    "        train_dataset = dataset[train_index]\n",
    "        test_dataset = dataset[test_index]\n",
    "\n",
    "        training_pairs, training_labels = create_pairs_from_mitm_arrays(train_dataset[0], train_dataset[1])\n",
    "        testing_pairs, testing_labels = create_pairs_from_mitm_arrays(test_dataset[0], test_dataset[1])\n",
    "\n",
    "        training_pair_dataset = MitmProxyPairDataset(training_pairs, training_labels)\n",
    "        testing_pair_dataset = MitmProxyPairDataset(testing_pairs, testing_labels)\n",
    "\n",
    "        yield {\n",
    "            \"train\": training_pair_dataset,\n",
    "            \"test\": testing_pair_dataset\n",
    "        }\n",
    "\n",
    "dataset_splits = list(perform_k_split(5, total_dataset))"
   ]
  },
  {
   "cell_type": "code",
   "execution_count": 37,
   "metadata": {},
   "outputs": [],
   "source": [
    "def extract_features_from_pair(pair):\n",
    "    features = np.zeros((32))\n",
    "\n",
    "    pair = pair.numpy()\n",
    "\n",
    "    for i in range(4):\n",
    "        features[i * 4 + 0] = np.mean(pair[0][i])\n",
    "        features[i * 4 + 1] = np.std(pair[0][i])\n",
    "        features[i * 4 + 2] = np.max(pair[0][i])\n",
    "        features[i * 4 + 3] = np.min(pair[0][i])\n",
    "\n",
    "    for i in range(4):\n",
    "        features[i * 4 + 16] = np.mean(pair[1][i])\n",
    "        features[i * 4 + 17] = np.std(pair[1][i])\n",
    "        features[i * 4 + 18] = np.max(pair[1][i])\n",
    "        features[i * 4 + 19] = np.min(pair[1][i])\n",
    "\n",
    "    return features\n",
    "\n",
    "def dataset_to_classifier_input(dataset: MitmProxyPairDataset):\n",
    "    X_raw = dataset.pairs\n",
    "    y = dataset.labels\n",
    "\n",
    "    y = np.array(y)\n",
    "\n",
    "    X = np.zeros((len(X_raw), 32))\n",
    "\n",
    "    for i in range(len(X_raw)):\n",
    "        features = extract_features_from_pair(X_raw[i])\n",
    "        X[i] = features\n",
    "\n",
    "    return X, y"
   ]
  },
  {
   "cell_type": "code",
   "execution_count": 38,
   "metadata": {},
   "outputs": [
    {
     "name": "stdout",
     "output_type": "stream",
     "text": [
      "Fold 0\n",
      "Fold 1\n",
      "Fold 2\n"
     ]
    },
    {
     "name": "stderr",
     "output_type": "stream",
     "text": [
      "C:\\Users\\alexa\\AppData\\Local\\Temp\\ipykernel_30296\\1001724676.py:24: DeprecationWarning: __array__ implementation doesn't accept a copy keyword, so passing copy=False failed. __array__ must implement 'dtype' and 'copy' keyword arguments. To learn more, see the migration guide https://numpy.org/devdocs/numpy_2_0_migration_guide.html#adapting-to-changes-in-the-copy-keyword\n",
      "  y = np.array(y)\n",
      "C:\\Users\\alexa\\AppData\\Local\\Temp\\ipykernel_30296\\1001724676.py:24: DeprecationWarning: __array__ implementation doesn't accept a copy keyword, so passing copy=False failed. __array__ must implement 'dtype' and 'copy' keyword arguments. To learn more, see the migration guide https://numpy.org/devdocs/numpy_2_0_migration_guide.html#adapting-to-changes-in-the-copy-keyword\n",
      "  y = np.array(y)\n",
      "C:\\Users\\alexa\\AppData\\Local\\Temp\\ipykernel_30296\\1001724676.py:24: DeprecationWarning: __array__ implementation doesn't accept a copy keyword, so passing copy=False failed. __array__ must implement 'dtype' and 'copy' keyword arguments. To learn more, see the migration guide https://numpy.org/devdocs/numpy_2_0_migration_guide.html#adapting-to-changes-in-the-copy-keyword\n",
      "  y = np.array(y)\n"
     ]
    },
    {
     "name": "stdout",
     "output_type": "stream",
     "text": [
      "Fold 3\n",
      "Fold 4\n"
     ]
    },
    {
     "name": "stderr",
     "output_type": "stream",
     "text": [
      "C:\\Users\\alexa\\AppData\\Local\\Temp\\ipykernel_30296\\1001724676.py:24: DeprecationWarning: __array__ implementation doesn't accept a copy keyword, so passing copy=False failed. __array__ must implement 'dtype' and 'copy' keyword arguments. To learn more, see the migration guide https://numpy.org/devdocs/numpy_2_0_migration_guide.html#adapting-to-changes-in-the-copy-keyword\n",
      "  y = np.array(y)\n",
      "C:\\Users\\alexa\\AppData\\Local\\Temp\\ipykernel_30296\\1001724676.py:24: DeprecationWarning: __array__ implementation doesn't accept a copy keyword, so passing copy=False failed. __array__ must implement 'dtype' and 'copy' keyword arguments. To learn more, see the migration guide https://numpy.org/devdocs/numpy_2_0_migration_guide.html#adapting-to-changes-in-the-copy-keyword\n",
      "  y = np.array(y)\n"
     ]
    }
   ],
   "source": [
    "from sklearn.tree import DecisionTreeClassifier\n",
    "from sklearn.model_selection import GridSearchCV\n",
    "from sklearn.metrics import precision_score, recall_score, f1_score\n",
    "\n",
    "accuracies = []\n",
    "precisions = []\n",
    "recalls = []\n",
    "f1_scores = []\n",
    "\n",
    "y_preds = []\n",
    "y_trues = []\n",
    "\n",
    "tree_param = {'criterion':['gini'],'max_depth':[2, 5, 10, 20]}\n",
    "\n",
    "for i, dataset_split in enumerate(dataset_splits):\n",
    "    print(\"Fold\", i)\n",
    "\n",
    "    training_X, training_y = dataset_to_classifier_input(dataset_split[\"train\"])\n",
    "    testing_X, testing_y = dataset_to_classifier_input(dataset_split[\"test\"])\n",
    "\n",
    "    clf = GridSearchCV(DecisionTreeClassifier(), tree_param, cv=5, n_jobs=-1)\n",
    "    clf.fit(training_X, training_y)\n",
    "\n",
    "    accuracy = clf.score(testing_X, testing_y)\n",
    "    accuracies.append(accuracy)\n",
    "\n",
    "    precision = precision_score(testing_y, clf.predict(testing_X))\n",
    "    precisions.append(precision)\n",
    "\n",
    "    recall = recall_score(testing_y, clf.predict(testing_X))\n",
    "    recalls.append(recall)\n",
    "\n",
    "    f1 = f1_score(testing_y, clf.predict(testing_X))\n",
    "    f1_scores.append(f1)\n",
    "\n",
    "    y_preds.append(clf.predict(testing_X))\n",
    "    y_trues.append(testing_y)"
   ]
  },
  {
   "cell_type": "code",
   "execution_count": 39,
   "metadata": {},
   "outputs": [
    {
     "name": "stdout",
     "output_type": "stream",
     "text": [
      "59.00\\% $\\pm$ 8.90\\%\n",
      "57.23\\% $\\pm$ 6.03\\%\n",
      "56.00\\% $\\pm$ 41.27\\%\n",
      "47.17\\% $\\pm$ 30.74\\%\n"
     ]
    }
   ],
   "source": [
    "def perc_print(percentage):\n",
    "    return f\"{percentage * 100:.2f}\\\\%\"\n",
    "\n",
    "print(f\"{perc_print(np.mean(accuracies))} $\\\\pm$ {perc_print(np.std(accuracies))}\")\n",
    "print(f\"{perc_print(np.mean(precisions))} $\\\\pm$ {perc_print(np.std(precisions))}\")\n",
    "print(f\"{perc_print(np.mean(recalls))} $\\\\pm$ {perc_print(np.std(recalls))}\")\n",
    "print(f\"{perc_print(np.mean(f1_scores))} $\\\\pm$ {perc_print(np.std(f1_scores))}\")"
   ]
  },
  {
   "cell_type": "code",
   "execution_count": 40,
   "metadata": {},
   "outputs": [
    {
     "name": "stdout",
     "output_type": "stream",
     "text": [
      "Length y_true: 120\n",
      "Length y_true: 120\n",
      "Length y_true: 120\n",
      "Length y_true: 120\n",
      "Length y_true: 120\n"
     ]
    }
   ],
   "source": [
    "def get_roc_for_model(y_true, y_scores):\n",
    "    from sklearn.metrics import roc_curve, roc_auc_score\n",
    "\n",
    "    fpr, tpr, thresholds = roc_curve(y_true, y_scores)\n",
    "    auc = roc_auc_score(y_true, y_scores)\n",
    "    return fpr, tpr, thresholds, auc\n",
    "\n",
    "fprs = []\n",
    "tprs = []\n",
    "aucs = []\n",
    "\n",
    "for i in range(5):\n",
    "    print(\"Length y_true:\", len(y_trues[i]))\n",
    "    fpr, tpr, thresholds, auc = get_roc_for_model(y_trues[i], y_preds[i])\n",
    "    fprs.append(fpr)\n",
    "    tprs.append(tpr)\n",
    "    aucs.append(auc)"
   ]
  },
  {
   "cell_type": "code",
   "execution_count": 41,
   "metadata": {},
   "outputs": [
    {
     "data": {
      "image/png": "[encoded data removed]",
      "text/plain": [
       "<Figure size 500x500 with 1 Axes>"
      ]
     },
     "metadata": {},
     "output_type": "display_data"
    }
   ],
   "source": [
    "def plot_auc_average(fprs, tprs, aucs):\n",
    "    max_length = max([len(fpr) for fpr in fprs])\n",
    "\n",
    "    mean_fpr = np.linspace(0, 1, max_length)\n",
    "    mean_tpr = np.zeros_like(mean_fpr)\n",
    "\n",
    "    std_tpr = np.zeros_like(mean_fpr)\n",
    "\n",
    "    for fpr, tpr in zip(fprs, tprs):\n",
    "        mean_tpr += np.interp(mean_fpr, fpr, tpr)\n",
    "        std_tpr += np.interp(mean_fpr, fpr, tpr) ** 2\n",
    "\n",
    "    mean_tpr /= len(fprs)\n",
    "    std_tpr = np.sqrt(std_tpr / len(fprs) - mean_tpr ** 2)\n",
    "\n",
    "    mean_auc = np.mean(aucs)\n",
    "\n",
    "    plt.figure(figsize=(5,5))\n",
    "    plt.plot(mean_fpr, mean_tpr, color='black', lw=2, label='Mean ROC curve (area = {:.4f})'.format(mean_auc))\n",
    "    plt.fill_between(mean_fpr, mean_tpr - std_tpr, mean_tpr + std_tpr, color='gray', alpha=0.5, label=\"Standard deviation\")\n",
    "\n",
    "    plt.plot([0, 1], [0, 1], color='black', lw=2, linestyle='--', label=\"Random guessing\")\n",
    "\n",
    "    plt.xlim([0, 1.0])\n",
    "    plt.ylim([0.0, 1.05])\n",
    "    plt.xlabel('False Positive Rate')\n",
    "    plt.ylabel('True Positive Rate')\n",
    "\n",
    "    plt.legend()\n",
    "\n",
    "\n",
    "plot_auc_average(fprs, tprs, aucs)\n",
    "# plt.savefig(\"auc_decision_tree.pdf\", dpi=300)\n"
   ]
  }
 ],
 "metadata": {
  "kernelspec": {
   "display_name": ".venv",
   "language": "python",
   "name": "python3"
  },
  "language_info": {
   "codemirror_mode": {
    "name": "ipython",
    "version": 3
   },
   "file_extension": ".py",
   "mimetype": "text/x-python",
   "name": "python",
   "nbconvert_exporter": "python",
   "pygments_lexer": "ipython3",
   "version": "3.13.3"
  }
 },
 "nbformat": 4,
 "nbformat_minor": 2
}
